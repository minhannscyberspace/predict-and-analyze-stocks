import pandas as pd
import numpy as np
import matplotlib.pyplot as plt


url = 'NVidia_stock_history.csv'
nvidia = pd.read_csv(url)
len(nvidia.index)


#Deleting null records
nvidia = nvidia.dropna(how='any',axis=0)
len(nvidia.index)


nvidia = nvidia.sort_values('Date')
nvidia.head()


#Seeing how the price changes over time
plt.figure(figsize = (20,9))
plt.plot(nvidia.Date, (nvidia.High+nvidia.Low)/2)
plt.xticks(range(0,nvidia.shape[0],100),nvidia['Date'].loc[::100],rotation=45)
plt.xlabel('Date',fontsize=12)
plt.ylabel('Mid price',fontsize=12)
plt.title('Nvidia stock price changes over time',fontsize=20)
plt.show()


#Volume of stocks traded over time
plt.figure(figsize = (20,9))
plt.plot(nvidia.Date, nvidia.Volume)
plt.xticks(range(0,nvidia.shape[0],100),nvidia['Date'].loc[::100],rotation=45)
plt.xlabel('Date',fontsize=12)
plt.ylabel('Volume',fontsize=12)
plt.title('Volume of Nvidia stocks traded over time',fontsize=20)
plt.show()


nvidia['midprice'] = (nvidia.High + nvidia.Low)/2
nvidia.head()


#The daily return
nvidia['Daily_returns'] = nvidia.midprice.pct_change()
nvidia.head()


plt.figure(figsize=(20,9))
plt.plot(nvidia.Date, nvidia.Daily_returns)
plt.xticks(range(0,nvidia.shape[0],100),nvidia.Date.loc[::100],rotation=45)
plt.title('Daily returns of stock',fontsize=18)
plt.xlabel('Date',fontsize=12)
plt.ylabel('Daily return',fontsize=12)
plt.show()


#The monthly return
#.resample()


#The yearly return - assuming there are 252 trading days in a year


#Short-term moving average of 20 days
if 'Date' in nvidia.columns:
    nvidia['Date'] = pd.to_datetime(nvidia['Date'])

nvidia['Daily_returns'].fillna(method='ffill', inplace=True)
short_MA = nvidia.drop(columns=['Date']).rolling(window=20).mean()
short_MA = short_MA.dropna()

print(short_MA.head())


#Long-term moving average of 80 days
if 'Date' in nvidia.columns:
    nvidia['Date'] = pd.to_datetime(nvidia['Date'])
# drop 'Date' column
long_MA = nvidia.drop(columns=['Date']).rolling(window=80).mean()
# drop NaN values
long_MA = long_MA.dropna()
print(long_MA.head())


#Plotting the price, long MA and short MA for comparison

short_dates = nvidia.Date.iloc[-len(short_MA):]
long_dates = nvidia.Date.iloc[-len(long_MA):]
plt.figure(figsize=(20,9))

plt.xlabel('Dates',fontsize=12)
plt.ylabel('Price',fontsize=12)
plt.title('Moving average in comparison to price',fontsize=18)

plt.plot(nvidia.Date,nvidia.midprice,label='Price')

plt.plot(short_dates, short_MA.midprice, label='Short MA')
plt.plot(long_dates, long_MA.midprice, label='Long MA')

plt.xticks(range(0, nvidia.shape[0], 500), nvidia.Date.iloc[::500], rotation=45)

plt.xticks(range(0,nvidia.shape[0],500),nvidia.Date.loc[::500],rotation=45)

plt.legend()
plt.show()


#Re-plotting the data because the price changes after 2015-05-11 is more interesting
nvidia['Date'] = pd.to_datetime(nvidia['Date'])

mask = (nvidia.Date >= '11/05/2015') & (nvidia.Date <= '16/09/2021')
nvidia[mask].head(10)


modifiednvidia = nvidia.loc[mask]
modifiedshortMA = short_MA.loc[mask]
modifiedlongMA = long_MA.loc[mask]


plt.figure(figsize=(20,9))

plt.xlabel('Dates',fontsize=12)
plt.ylabel('Price',fontsize=12)
plt.title('Moving average in comparison to price',fontsize=18)

plt.plot(modifiednvidia.Date, modifiednvidia.midprice, label='Price')
plt.plot(modifiednvidia.Date, modifiedshortMA.midprice, label='Short MA')
plt.plot(modifiednvidia.Date, modifiedlongMA.midprice, label='Long MA')

plt.legend()
plt.show()


#We calculate risk by comparing the expected return to the standard deviation of daily returns
nvidiarisk = modifiednvidia.midprice
nvidiarisk.head()


plt.figure(figsize=(20,9))

plt.xlabel('Expected return',fontsize=12)
plt.ylabel('Risk',fontsize=12)
plt.title('Risk of Nvidia stock',fontsize=18)

plt.scatter(nvidiarisk.mean(),nvidiarisk.std())

plt.show()


#Finding the order of differencing for the stationary time series
#If d=0, it means the time series is stationary and vice versa
import statsmodels.api as sm
from statsmodels.tsa.stattools import adfuller
from numpy import log


result = adfuller(nvidia.midprice)
print('The ADF Statistic: %f' % result[0])
print('The p-value: %f' % result[1])


#Since the ADF Statistic is 10.55, and the p-value is 1.00,
